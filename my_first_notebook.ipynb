{
 "cells": [
  {
   "cell_type": "code",
   "execution_count": null,
   "metadata": {},
   "outputs": [],
   "source": [
    "#  Test out the jupyter notebook environment: execute at least 3 Python cells, \n",
    "# and make some notes that describe 3 shortcuts for jupyter notebooks."
   ]
  },
  {
   "cell_type": "code",
   "execution_count": 9,
   "metadata": {},
   "outputs": [
    {
     "name": "stdout",
     "output_type": "stream",
     "text": [
      "Cmd + Shift + P will bring up the shortcuts in Jupyter\n"
     ]
    }
   ],
   "source": [
    "shortcut1 = ('Cmd + Shift + P will bring up the shortcuts in Jupyter')\n",
    "print(shortcut1)"
   ]
  },
  {
   "cell_type": "code",
   "execution_count": 10,
   "metadata": {},
   "outputs": [
    {
     "name": "stdout",
     "output_type": "stream",
     "text": [
      "Shift + Enter will run the current cell in Jupyter\n"
     ]
    }
   ],
   "source": [
    "shortcut2 = ('Shift + Enter will run the current cell in Jupyter')\n",
    "print(shortcut2)"
   ]
  },
  {
   "cell_type": "code",
   "execution_count": 8,
   "metadata": {},
   "outputs": [
    {
     "name": "stdout",
     "output_type": "stream",
     "text": [
      "Esc + s will save a notebook in Jupyter\n"
     ]
    }
   ],
   "source": [
    "shortcut3 = ('Esc + s will save a notebook in Jupyter')\n",
    "print(shortcut3)"
   ]
  },
  {
   "cell_type": "code",
   "execution_count": null,
   "metadata": {},
   "outputs": [],
   "source": []
  },
  {
   "cell_type": "code",
   "execution_count": null,
   "metadata": {},
   "outputs": [],
   "source": []
  }
 ],
 "metadata": {
  "kernelspec": {
   "display_name": "Python 3",
   "language": "python",
   "name": "python3"
  },
  "language_info": {
   "codemirror_mode": {
    "name": "ipython",
    "version": 3
   },
   "file_extension": ".py",
   "mimetype": "text/x-python",
   "name": "python",
   "nbconvert_exporter": "python",
   "pygments_lexer": "ipython3",
   "version": "3.8.5"
  }
 },
 "nbformat": 4,
 "nbformat_minor": 4
}
