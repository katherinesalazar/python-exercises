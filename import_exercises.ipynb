{
 "cells": [
  {
   "cell_type": "code",
   "execution_count": null,
   "metadata": {},
   "outputs": [],
   "source": [
    "# 1A\n",
    "# Import and test 3 of the functions from your functions exercise file. \n",
    "# Import each function in a different way:\n",
    "\n",
    "# Run an interactive python session and import the module. \n",
    "# Call the is_vowel function using the . syntax.\n",
    "\n",
    "import function_exercises as fe"
   ]
  },
  {
   "cell_type": "code",
   "execution_count": null,
   "metadata": {},
   "outputs": [],
   "source": [
    "fe.is_vowel('k')"
   ]
  },
  {
   "cell_type": "code",
   "execution_count": null,
   "metadata": {},
   "outputs": [],
   "source": [
    "fe.is_vowel('i')"
   ]
  },
  {
   "cell_type": "code",
   "execution_count": null,
   "metadata": {},
   "outputs": [],
   "source": [
    "fe.handle_commas('900,000')"
   ]
  },
  {
   "cell_type": "code",
   "execution_count": null,
   "metadata": {},
   "outputs": [],
   "source": [
    "fe.remove_vowels('brooklyn')"
   ]
  },
  {
   "cell_type": "code",
   "execution_count": null,
   "metadata": {},
   "outputs": [],
   "source": [
    "# 1B\n",
    "# Create a file named import_exericses.py. \n",
    "# Within this file, use from to import the calculate_tip function directly.\n",
    "# Call this function with values you choose and print the result.\n",
    "\n",
    "from function_exercises import calculate_tip as ct\n",
    "ct(100, .20)"
   ]
  },
  {
   "cell_type": "code",
   "execution_count": null,
   "metadata": {},
   "outputs": [],
   "source": [
    "from function_exercises import get_letter_grade as glg\n",
    "glg(81)"
   ]
  },
  {
   "cell_type": "code",
   "execution_count": null,
   "metadata": {},
   "outputs": [],
   "source": [
    "import itertools as i"
   ]
  },
  {
   "cell_type": "code",
   "execution_count": null,
   "metadata": {},
   "outputs": [],
   "source": [
    "#2A\n",
    "#How many different ways can you combine the letters from \"abc\" with the numbers 1, 2, and 3?\n",
    "#output 9\n",
    "\n",
    "print(len(list(i.product('abc', '123'))))"
   ]
  },
  {
   "cell_type": "code",
   "execution_count": null,
   "metadata": {},
   "outputs": [],
   "source": [
    "# 2B\n",
    "# How many different combinations are there of 2 letters from \"abcd\"?\n",
    "# 6 combinations\n",
    "print(len(list(i.combinations('abcd', 2))))"
   ]
  },
  {
   "cell_type": "code",
   "execution_count": null,
   "metadata": {},
   "outputs": [],
   "source": [
    "# 2C\n",
    "# How many different permutations are there of 2 letters from \"abcd\"?\n",
    "# 12 combinations\n",
    "len(list(i.permutations('abcd', 2)))"
   ]
  },
  {
   "cell_type": "code",
   "execution_count": 1,
   "metadata": {},
   "outputs": [],
   "source": [
    "import json\n",
    "with open('profiles.json', 'r') as f:\n",
    "    profiles = json.load(f)"
   ]
  },
  {
   "cell_type": "code",
   "execution_count": 4,
   "metadata": {},
   "outputs": [
    {
     "name": "stdout",
     "output_type": "stream",
     "text": [
      "Total number of users in profiles: 19\n"
     ]
    }
   ],
   "source": [
    "# 1. Total number of users \n",
    "\n",
    "#notes the total number of users:\n",
    "numusers = len(profiles)\n",
    "print(f'Total number of users in profiles: {numusers}')"
   ]
  },
  {
   "cell_type": "code",
   "execution_count": 3,
   "metadata": {},
   "outputs": [
    {
     "name": "stdout",
     "output_type": "stream",
     "text": [
      "Total number of active users in profiles: 9\n"
     ]
    }
   ],
   "source": [
    "# 2 Number of active users\n",
    "\n",
    "active_accounts = [accnt for accnt in profiles if accnt['isActive']]\n",
    "print(f'Total number of active users in profiles: {len(active_accounts)}')"
   ]
  },
  {
   "cell_type": "code",
   "execution_count": 5,
   "metadata": {},
   "outputs": [
    {
     "name": "stdout",
     "output_type": "stream",
     "text": [
      "Total number of inactive users in profiles: 10\n"
     ]
    }
   ],
   "source": [
    "# 3 Number of inactive users\n",
    "\n",
    "inactive_users = []\n",
    "for accnt in profiles: \n",
    "    if not accnt['isActive']:\n",
    "        inactive_users.append(accnt)\n",
    "print(f'Total number of inactive users in profiles: {len(inactive_users)}')"
   ]
  },
  {
   "cell_type": "code",
   "execution_count": 13,
   "metadata": {},
   "outputs": [
    {
     "name": "stdout",
     "output_type": "stream",
     "text": [
      "Total balance in users: $52667.02\n"
     ]
    }
   ],
   "source": [
    "# 4 Grand total of balances for all users\n",
    "\n",
    "bal_list = []\n",
    "for accnt in profiles:\n",
    "    bal_list.append(float(accnt['balance'][1:].replace(',','')))\n",
    "total_balances = sum(bal_list)\n",
    "print(f'Total balance in users: ${total_balances}')\n"
   ]
  },
  {
   "cell_type": "code",
   "execution_count": 15,
   "metadata": {},
   "outputs": [
    {
     "name": "stdout",
     "output_type": "stream",
     "text": [
      "Average balance in users: $2771.95\n"
     ]
    }
   ],
   "source": [
    "# 5 Average balance per user\n",
    "avg_balance = total_balances / numusers\n",
    "print(f'Average balance in users: ${avg_balance:.6}')"
   ]
  },
  {
   "cell_type": "code",
   "execution_count": 17,
   "metadata": {},
   "outputs": [
    {
     "name": "stdout",
     "output_type": "stream",
     "text": [
      "User with minimum balance:  Fay Hammond\n"
     ]
    }
   ],
   "source": [
    "# 6 User with the lowest balance\n",
    "min_bal_user = [accnt for accnt in profiles if float (accnt['balance'][1:].replace(\",\",\"\")) == max(bal_list)][0]\n",
    "print('User with minimum balance: ', min_bal_user['name'])"
   ]
  },
  {
   "cell_type": "code",
   "execution_count": 19,
   "metadata": {},
   "outputs": [
    {
     "name": "stdout",
     "output_type": "stream",
     "text": [
      "User with maximum account balance: Fay Hammond\n"
     ]
    }
   ],
   "source": [
    "# 7 User with the highest balance\n",
    "\n",
    "max_user = {}\n",
    "for accnt in profiles: \n",
    "    if float(accnt['balance'][1:].replace(',','')) == max(bal_list):\n",
    "        max_user = accnt['name']\n",
    "print(f'User with maximum account balance: {max_user}')"
   ]
  },
  {
   "cell_type": "code",
   "execution_count": 24,
   "metadata": {},
   "outputs": [
    {
     "name": "stdout",
     "output_type": "stream",
     "text": [
      "most popular fruit: strawberry\n"
     ]
    }
   ],
   "source": [
    "# 8 Most common favorite fruit\n",
    "\n",
    "all_fruits = [accnt['favoriteFruit'] for accnt in profiles]\n",
    "\n",
    "def fruit_counts(fruitlist): \n",
    "    '''\n",
    "    counts the number of each item in a list of strings and \n",
    "    returns a dictionary of the counts of each item\n",
    "    '''\n",
    "    fruit_counts = {}\n",
    "    for fruit in fruitlist: \n",
    "        if fruit not in fruit_counts.keys():\n",
    "            fruit_counts[fruit] = 1\n",
    "        else:\n",
    "            fruit_counts[fruit] = fruit_counts[fruit] +1\n",
    "        return fruit_counts\n",
    "    \n",
    "fruitcount_dict = fruit_counts(all_fruits)\n",
    "fave_fruit = [fruit for fruit in fruitcount_dict \\\n",
    "             if fruitcount_dict[fruit] == max(fruitcount_dict.values())][0]\n",
    "print(f'most popular fruit: {fave_fruit}')"
   ]
  },
  {
   "cell_type": "code",
   "execution_count": 25,
   "metadata": {},
   "outputs": [
    {
     "name": "stdout",
     "output_type": "stream",
     "text": [
      "least favorite fruit:  strawberry\n",
      "Total unread messages: 210\n"
     ]
    }
   ],
   "source": [
    "# 9 Total number of unread messages for all users\n",
    "# without list comprehension:\n",
    "# initialize least favorite fruit as an empty string\n",
    "least_fave_fruit = ''\n",
    "for k, v in fruitcount_dict.items():\n",
    "    if v == min(fruitcount_dict.values()):\n",
    "        print('least favorite fruit: ',k)\n",
    "\n",
    "#         - Total number of unread messages for all users\n",
    "list_comp_all_unreads = sum([int(''.join([val for val in accnt['greeting'] if val.isdigit()])) for accnt in profiles])\n",
    "# \n",
    "# breaking it down:\n",
    "# \n",
    "# single greeting value:\n",
    "profiles[0]['greeting']\n",
    "# pulling out the digits from that greeting into a list:\n",
    "digit_list = []\n",
    "for letter in profiles[0]['greeting']:\n",
    "    if letter.isdigit():\n",
    "        digit_list.append(letter)\n",
    "# this gives us a digit list that looks like ['4'] or like ['1','9'] -- we want a single int.\n",
    "# to join the list, we use the join string method\n",
    "digit_as_string = ''.join(digit_list)\n",
    "# finally we want to cast it to an integer data type\n",
    "digit = int(digit_as_string)\n",
    "# Now, we want to do this for every account in the profile\n",
    "list_of_unread_messages = []\n",
    "for accnt in profiles:\n",
    "    # do everything we just did for every dictionary referenced here as accnt\n",
    "    digit_list = []\n",
    "    for letter in accnt['greeting']:\n",
    "        if letter.isdigit():\n",
    "            digit_list.append(letter)\n",
    "    digit_as_string = ''.join(digit_list)\n",
    "    digit = int(digit_as_string)\n",
    "    list_of_unread_messages.append(digit)\n",
    "\n",
    "# and to get all unread messages, just call sum()\n",
    "all_unread_messages = sum(list_of_unread_messages)\n",
    "print(f'Total unread messages: {all_unread_messages}')"
   ]
  },
  {
   "cell_type": "code",
   "execution_count": null,
   "metadata": {},
   "outputs": [],
   "source": []
  }
 ],
 "metadata": {
  "kernelspec": {
   "display_name": "Python 3",
   "language": "python",
   "name": "python3"
  },
  "language_info": {
   "codemirror_mode": {
    "name": "ipython",
    "version": 3
   },
   "file_extension": ".py",
   "mimetype": "text/x-python",
   "name": "python",
   "nbconvert_exporter": "python",
   "pygments_lexer": "ipython3",
   "version": "3.8.5"
  }
 },
 "nbformat": 4,
 "nbformat_minor": 4
}
