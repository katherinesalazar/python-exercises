{
 "cells": [
  {
   "cell_type": "code",
   "execution_count": 17,
   "metadata": {},
   "outputs": [],
   "source": [
    "some_dict = {\n",
    "    'car': 'honda_civic',\n",
    "    'truck': 'toyota tacoma',\n",
    "    'minivan': 'honda_odyssey'\n",
    "}"
   ]
  },
  {
   "cell_type": "code",
   "execution_count": 18,
   "metadata": {},
   "outputs": [
    {
     "data": {
      "text/plain": [
       "dict_keys(['car', 'truck', 'minivan'])"
      ]
     },
     "execution_count": 18,
     "metadata": {},
     "output_type": "execute_result"
    }
   ],
   "source": [
    "#only returning the key:\n",
    "some_dict.keys()"
   ]
  },
  {
   "cell_type": "code",
   "execution_count": 19,
   "metadata": {},
   "outputs": [
    {
     "data": {
      "text/plain": [
       "dict_values(['honda_civic', 'toyota tacoma', 'honda_odyssey'])"
      ]
     },
     "execution_count": 19,
     "metadata": {},
     "output_type": "execute_result"
    }
   ],
   "source": [
    "#returning all values\n",
    "some_dict.values()"
   ]
  },
  {
   "cell_type": "code",
   "execution_count": 20,
   "metadata": {},
   "outputs": [
    {
     "data": {
      "text/plain": [
       "['honda_civic', 'toyota tacoma', 'honda_odyssey']"
      ]
     },
     "execution_count": 20,
     "metadata": {},
     "output_type": "execute_result"
    }
   ],
   "source": [
    "#replacing back into index values\n",
    "list(some_dict.values())"
   ]
  },
  {
   "cell_type": "code",
   "execution_count": 21,
   "metadata": {},
   "outputs": [
    {
     "data": {
      "text/plain": [
       "dict_items([('car', 'honda_civic'), ('truck', 'toyota tacoma'), ('minivan', 'honda_odyssey')])"
      ]
     },
     "execution_count": 21,
     "metadata": {},
     "output_type": "execute_result"
    }
   ],
   "source": [
    "#three tuples seperated by commas\n",
    "some_dict.items()"
   ]
  },
  {
   "cell_type": "code",
   "execution_count": 22,
   "metadata": {},
   "outputs": [
    {
     "name": "stdout",
     "output_type": "stream",
     "text": [
      "car\n",
      "truck\n",
      "minivan\n"
     ]
    }
   ],
   "source": [
    "for val in some_dict:\n",
    "    print(val)\n",
    "    "
   ]
  },
  {
   "cell_type": "code",
   "execution_count": 23,
   "metadata": {},
   "outputs": [
    {
     "name": "stdout",
     "output_type": "stream",
     "text": [
      "honda_civic\n",
      "toyota tacoma\n",
      "honda_odyssey\n"
     ]
    }
   ],
   "source": [
    "\n",
    "for val in some_dict:\n",
    "    print(some_dict[val])"
   ]
  },
  {
   "cell_type": "code",
   "execution_count": 24,
   "metadata": {},
   "outputs": [
    {
     "name": "stdout",
     "output_type": "stream",
     "text": [
      "car :  honda_civic\n",
      "truck :  toyota tacoma\n",
      "minivan :  honda_odyssey\n"
     ]
    }
   ],
   "source": [
    "#looping through dictionary\n",
    "for val in some_dict:\n",
    "    print(val, ': ', some_dict[val])"
   ]
  },
  {
   "cell_type": "code",
   "execution_count": 27,
   "metadata": {},
   "outputs": [
    {
     "name": "stdout",
     "output_type": "stream",
     "text": [
      "car :  honda_civic\n",
      "truck :  toyota tacoma\n",
      "minivan :  honda_odyssey\n"
     ]
    }
   ],
   "source": [
    "#same as above, but more key and value pair is calling \"some items\"\n",
    "#could have reveresed in the print statement\n",
    "for k, v in some_dict.items():\n",
    "    print(k, \": \", v)"
   ]
  },
  {
   "cell_type": "code",
   "execution_count": 28,
   "metadata": {},
   "outputs": [],
   "source": [
    "some_list = [1, 2, 3, [4, 5, 6]]"
   ]
  },
  {
   "cell_type": "code",
   "execution_count": 35,
   "metadata": {},
   "outputs": [
    {
     "name": "stdout",
     "output_type": "stream",
     "text": [
      "<class 'int'>\n",
      "<class 'int'>\n",
      "<class 'int'>\n",
      "<class 'list'>\n"
     ]
    }
   ],
   "source": [
    "for item in some_list:\n",
    "    print(type(item))"
   ]
  },
  {
   "cell_type": "code",
   "execution_count": 37,
   "metadata": {},
   "outputs": [],
   "source": [
    "some_list = [[1, 2, 3], [4, 5, 6], [7,8,9]]"
   ]
  },
  {
   "cell_type": "code",
   "execution_count": 38,
   "metadata": {},
   "outputs": [
    {
     "name": "stdout",
     "output_type": "stream",
     "text": [
      "[1, 2, 3]\n",
      "[4, 5, 6]\n",
      "[7, 8, 9]\n"
     ]
    }
   ],
   "source": [
    "for val in some_list:\n",
    "    print(val)"
   ]
  },
  {
   "cell_type": "code",
   "execution_count": 40,
   "metadata": {},
   "outputs": [
    {
     "name": "stdout",
     "output_type": "stream",
     "text": [
      "this isn't and integer\n",
      "this isn't and integer\n",
      "this isn't and integer\n"
     ]
    }
   ],
   "source": [
    "for val in some_dict:\n",
    "    if type(val) == int:\n",
    "        pass\n",
    "    else: \n",
    "        print('this isn\\'t and integer')\n",
    "        "
   ]
  },
  {
   "cell_type": "code",
   "execution_count": 39,
   "metadata": {},
   "outputs": [
    {
     "name": "stdout",
     "output_type": "stream",
     "text": [
      "[1, 2, 3]\n",
      "[4, 5, 6]\n",
      "[7, 8, 9]\n"
     ]
    }
   ],
   "source": [
    "#iterating through a dictionary:\n",
    "for val in some_list:\n",
    "    print(val)\n",
    "    "
   ]
  },
  {
   "cell_type": "code",
   "execution_count": 41,
   "metadata": {},
   "outputs": [
    {
     "name": "stdout",
     "output_type": "stream",
     "text": [
      "odd\n",
      "-------\n",
      "next sub-list\n",
      "------------\n",
      "2\n",
      "-------\n",
      "next sub-list\n",
      "------------\n",
      "odd\n",
      "-------\n",
      "next sub-list\n",
      "------------\n",
      "4\n",
      "-------\n",
      "next sub-list\n",
      "------------\n",
      "odd\n",
      "-------\n",
      "next sub-list\n",
      "------------\n",
      "6\n",
      "-------\n",
      "next sub-list\n",
      "------------\n",
      "odd\n",
      "-------\n",
      "next sub-list\n",
      "------------\n",
      "8\n",
      "-------\n",
      "next sub-list\n",
      "------------\n",
      "odd\n",
      "-------\n",
      "next sub-list\n",
      "------------\n"
     ]
    }
   ],
   "source": [
    "for val in some_list:\n",
    "    for el in val: \n",
    "        if el % 2 == 0:\n",
    "            print(el)\n",
    "        else:\n",
    "            print('odd')\n",
    "        print('-------')\n",
    "        print('next sub-list')\n",
    "        print('------------')"
   ]
  },
  {
   "cell_type": "code",
   "execution_count": null,
   "metadata": {},
   "outputs": [],
   "source": []
  }
 ],
 "metadata": {
  "kernelspec": {
   "display_name": "Python 3",
   "language": "python",
   "name": "python3"
  },
  "language_info": {
   "codemirror_mode": {
    "name": "ipython",
    "version": 3
   },
   "file_extension": ".py",
   "mimetype": "text/x-python",
   "name": "python",
   "nbconvert_exporter": "python",
   "pygments_lexer": "ipython3",
   "version": "3.8.5"
  }
 },
 "nbformat": 4,
 "nbformat_minor": 4
}
